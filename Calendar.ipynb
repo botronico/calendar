{
  "nbformat": 4,
  "nbformat_minor": 0,
  "metadata": {
    "colab": {
      "provenance": [],
      "authorship_tag": "ABX9TyN63zjJewHZhqsLyeUtSIqe",
      "include_colab_link": true
    },
    "kernelspec": {
      "name": "python3",
      "display_name": "Python 3"
    },
    "language_info": {
      "name": "python"
    }
  },
  "cells": [
    {
      "cell_type": "markdown",
      "metadata": {
        "id": "view-in-github",
        "colab_type": "text"
      },
      "source": [
        "<a href=\"https://colab.research.google.com/github/botronico/calendar/blob/main/Calendar.ipynb\" target=\"_parent\"><img src=\"https://colab.research.google.com/assets/colab-badge.svg\" alt=\"Open In Colab\"/></a>"
      ]
    },
    {
      "cell_type": "code",
      "execution_count": 3,
      "metadata": {
        "colab": {
          "base_uri": "https://localhost:8080/"
        },
        "id": "JBklwjnPrfC9",
        "outputId": "d7a18a0d-6476-4702-8758-31d9f412d266"
      },
      "outputs": [
        {
          "output_type": "stream",
          "name": "stdout",
          "text": [
            "Enter year: 2024\n",
            "Enter month: 08\n",
            "    August 2024\n",
            "Mo Tu We Th Fr Sa Su\n",
            "          1  2  3  4\n",
            " 5  6  7  8  9 10 11\n",
            "12 13 14 15 16 17 18\n",
            "19 20 21 22 23 24 25\n",
            "26 27 28 29 30 31\n",
            "\n"
          ]
        }
      ],
      "source": [
        "import calendar\n",
        "\n",
        "def display_calendar():\n",
        "\n",
        "  year = int(input(\"Enter year: \"))\n",
        "  month = int(input(\"Enter month: \"))\n",
        "\n",
        "  cal = calendar.TextCalendar(calendar.MONDAY)\n",
        "\n",
        "  month_calendar = cal.formatmonth(year, month)\n",
        "  print(month_calendar)\n",
        "\n",
        "display_calendar()"
      ]
    }
  ]
}